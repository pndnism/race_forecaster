{
 "cells": [
  {
   "cell_type": "code",
   "execution_count": 23,
   "metadata": {},
   "outputs": [],
   "source": [
    "import pandas as pd\n",
    "import glob\n",
    "import re\n",
    "import numpy as np\n",
    "\n",
    "pd.options.display.max_columns=None\n",
    "pd.options.display.max_rows=None"
   ]
  },
  {
   "cell_type": "code",
   "execution_count": 7,
   "metadata": {},
   "outputs": [],
   "source": [
    "horse_csvs_path = \"/Users/daikimiyazaki/workspace/pndnism/horse_race_prediction/horse_info_crawler/horse_info_crawler/pedigree/data/horse_info/**/*.csv\"\n",
    "race_csvs_path = \"/Users/daikimiyazaki/workspace/pndnism/horse_race_prediction/horse_info_crawler/horse_info_crawler/race/data/race_histories/**/*.csv\""
   ]
  },
  {
   "cell_type": "code",
   "execution_count": 9,
   "metadata": {},
   "outputs": [],
   "source": [
    "horse_csvs = glob.glob(horse_csvs_path,recursive=True)\n",
    "race_csvs = glob.glob(race_csvs_path,recursive=True)"
   ]
  },
  {
   "cell_type": "code",
   "execution_count": 10,
   "metadata": {},
   "outputs": [],
   "source": [
    "concat_list = []\n",
    "for horse_csv in horse_csvs:\n",
    "    concat_list.append(pd.read_csv(horse_csv, dtype=\"object\"))\n",
    "horse_data = pd.concat(concat_list)\n",
    "horse_data.drop_duplicates(inplace=True)"
   ]
  },
  {
   "cell_type": "code",
   "execution_count": 11,
   "metadata": {},
   "outputs": [],
   "source": [
    "concat_list = []\n",
    "for race_csv in race_csvs:\n",
    "    concat_list.append(pd.read_csv(race_csv, dtype=\"object\"))\n",
    "race_data = pd.concat(concat_list)\n",
    "race_data.drop_duplicates(inplace=True)"
   ]
  },
  {
   "cell_type": "code",
   "execution_count": 12,
   "metadata": {},
   "outputs": [
    {
     "data": {
      "text/plain": [
       "['202004040406']"
      ]
     },
     "execution_count": 12,
     "metadata": {},
     "output_type": "execute_result"
    }
   ],
   "source": [
    "test = \"https://db.netkeiba.com/race/202004040406/\"\n",
    "re.findall('/(\\w+)/$',test)"
   ]
  },
  {
   "cell_type": "code",
   "execution_count": 24,
   "metadata": {},
   "outputs": [],
   "source": [
    "def extract_id_number(x):\n",
    "    if not re.findall(\"/(\\w+)/$\", x):\n",
    "        return np.nan\n",
    "    return re.findall(\"/(\\w+)/$\", x)[0]"
   ]
  },
  {
   "cell_type": "code",
   "execution_count": 26,
   "metadata": {},
   "outputs": [],
   "source": [
    "race_data[\"race_id\"] = race_data[\"race_url\"].apply(extract_id_number)\n",
    "horse_data[\"horse_id\"] = horse_data[\"horse_url\"].apply(extract_id_number)"
   ]
  },
  {
   "cell_type": "code",
   "execution_count": 27,
   "metadata": {},
   "outputs": [],
   "source": [
    "race_data.to_csv(\"../data/race_stacking_data.csv\", index=False)\n",
    "horse_data.to_csv(\"../data/horse_stacking_data.csv\", index=False)"
   ]
  },
  {
   "cell_type": "code",
   "execution_count": 29,
   "metadata": {},
   "outputs": [
    {
     "data": {
      "text/html": [
       "<div>\n",
       "<style scoped>\n",
       "    .dataframe tbody tr th:only-of-type {\n",
       "        vertical-align: middle;\n",
       "    }\n",
       "\n",
       "    .dataframe tbody tr th {\n",
       "        vertical-align: top;\n",
       "    }\n",
       "\n",
       "    .dataframe thead th {\n",
       "        text-align: right;\n",
       "    }\n",
       "</style>\n",
       "<table border=\"1\" class=\"dataframe\">\n",
       "  <thead>\n",
       "    <tr style=\"text-align: right;\">\n",
       "      <th></th>\n",
       "      <th>horse_url</th>\n",
       "      <th>name</th>\n",
       "      <th>birthday</th>\n",
       "      <th>trainer_name</th>\n",
       "      <th>owner_name</th>\n",
       "      <th>producer</th>\n",
       "      <th>origin_place</th>\n",
       "      <th>mother</th>\n",
       "      <th>father</th>\n",
       "      <th>mother_of_father</th>\n",
       "      <th>father_of_father</th>\n",
       "      <th>mother_of_mother</th>\n",
       "      <th>father_of_mother</th>\n",
       "      <th>horse_id</th>\n",
       "    </tr>\n",
       "  </thead>\n",
       "  <tbody>\n",
       "    <tr>\n",
       "      <th>0</th>\n",
       "      <td>https://db.netkeiba.com/horse/1983103838/</td>\n",
       "      <td>ダイナエイコーン</td>\n",
       "      <td>1983年3月27日</td>\n",
       "      <td>高橋祥泰 (美浦)</td>\n",
       "      <td>有限会社社台レースホース</td>\n",
       "      <td>上水牧場</td>\n",
       "      <td>登別市</td>\n",
       "      <td>ライバリュウ</td>\n",
       "      <td>ロイヤルスキー</td>\n",
       "      <td>Coz o'Nijinsky</td>\n",
       "      <td>Raja Baba</td>\n",
       "      <td>クリゲンの壱</td>\n",
       "      <td>リマンド</td>\n",
       "      <td>1983103838</td>\n",
       "    </tr>\n",
       "    <tr>\n",
       "      <th>1</th>\n",
       "      <td>https://db.netkeiba.com/horse/1991102134/</td>\n",
       "      <td>チェリーテースト</td>\n",
       "      <td>1991年3月21日</td>\n",
       "      <td>嶋田功 (美浦)</td>\n",
       "      <td>チエリー商事</td>\n",
       "      <td>大塚牧場</td>\n",
       "      <td>三石町</td>\n",
       "      <td>ダイアナソロン</td>\n",
       "      <td>ノーザンテースト</td>\n",
       "      <td>Lady Victoria</td>\n",
       "      <td>Northern Dancer</td>\n",
       "      <td>ベゴニヤ</td>\n",
       "      <td>パーソロン</td>\n",
       "      <td>1991102134</td>\n",
       "    </tr>\n",
       "    <tr>\n",
       "      <th>2</th>\n",
       "      <td>https://db.netkeiba.com/horse/1985102148/</td>\n",
       "      <td>テイクオン</td>\n",
       "      <td>1985年5月21日</td>\n",
       "      <td>松永勇 (美浦)</td>\n",
       "      <td>茂呂邦久</td>\n",
       "      <td>吉田実</td>\n",
       "      <td>浦河町</td>\n",
       "      <td>ブルーソロナ</td>\n",
       "      <td>スティンティノ</td>\n",
       "      <td>Cynara</td>\n",
       "      <td>Sheshoon</td>\n",
       "      <td>チトセツバキ</td>\n",
       "      <td>ソロナウェー</td>\n",
       "      <td>1985102148</td>\n",
       "    </tr>\n",
       "    <tr>\n",
       "      <th>3</th>\n",
       "      <td>https://db.netkeiba.com/horse/1977105301/</td>\n",
       "      <td>○地ヒカリワカヤマ</td>\n",
       "      <td>1977年5月5日</td>\n",
       "      <td>瀬戸口勉 (栗東)</td>\n",
       "      <td>株式会社ひかり</td>\n",
       "      <td>田端牧場</td>\n",
       "      <td>新冠町</td>\n",
       "      <td>キングスビル</td>\n",
       "      <td>ライオンハーテッド</td>\n",
       "      <td>THUNDER</td>\n",
       "      <td>Never Say Die</td>\n",
       "      <td>キーンランド</td>\n",
       "      <td>ブラツクウヰング</td>\n",
       "      <td>1977105301</td>\n",
       "    </tr>\n",
       "    <tr>\n",
       "      <th>4</th>\n",
       "      <td>https://db.netkeiba.com/horse/1996104409/</td>\n",
       "      <td>□地ビゼンハナコ</td>\n",
       "      <td>1996年4月13日</td>\n",
       "      <td>後藤保 (笠松)</td>\n",
       "      <td>森本祐太郎</td>\n",
       "      <td>平成スタリオン</td>\n",
       "      <td>様似町</td>\n",
       "      <td>カンリヨク</td>\n",
       "      <td>ビゼンニシキ</td>\n",
       "      <td>ベニバナビゼン</td>\n",
       "      <td>ダンディルート</td>\n",
       "      <td>クインドーシ</td>\n",
       "      <td>ロムルス</td>\n",
       "      <td>1996104409</td>\n",
       "    </tr>\n",
       "  </tbody>\n",
       "</table>\n",
       "</div>"
      ],
      "text/plain": [
       "                                   horse_url       name    birthday  \\\n",
       "0  https://db.netkeiba.com/horse/1983103838/   ダイナエイコーン  1983年3月27日   \n",
       "1  https://db.netkeiba.com/horse/1991102134/   チェリーテースト  1991年3月21日   \n",
       "2  https://db.netkeiba.com/horse/1985102148/      テイクオン  1985年5月21日   \n",
       "3  https://db.netkeiba.com/horse/1977105301/  ○地ヒカリワカヤマ   1977年5月5日   \n",
       "4  https://db.netkeiba.com/horse/1996104409/   □地ビゼンハナコ  1996年4月13日   \n",
       "\n",
       "  trainer_name    owner_name producer origin_place   mother     father  \\\n",
       "0    高橋祥泰 (美浦)  有限会社社台レースホース     上水牧場          登別市   ライバリュウ    ロイヤルスキー   \n",
       "1     嶋田功 (美浦)        チエリー商事     大塚牧場          三石町  ダイアナソロン   ノーザンテースト   \n",
       "2     松永勇 (美浦)          茂呂邦久      吉田実          浦河町   ブルーソロナ    スティンティノ   \n",
       "3    瀬戸口勉 (栗東)       株式会社ひかり     田端牧場          新冠町   キングスビル  ライオンハーテッド   \n",
       "4     後藤保 (笠松)         森本祐太郎  平成スタリオン          様似町    カンリヨク     ビゼンニシキ   \n",
       "\n",
       "  mother_of_father father_of_father mother_of_mother father_of_mother  \\\n",
       "0   Coz o'Nijinsky        Raja Baba           クリゲンの壱             リマンド   \n",
       "1    Lady Victoria  Northern Dancer             ベゴニヤ            パーソロン   \n",
       "2           Cynara         Sheshoon           チトセツバキ           ソロナウェー   \n",
       "3          THUNDER    Never Say Die           キーンランド         ブラツクウヰング   \n",
       "4          ベニバナビゼン          ダンディルート           クインドーシ             ロムルス   \n",
       "\n",
       "     horse_id  \n",
       "0  1983103838  \n",
       "1  1991102134  \n",
       "2  1985102148  \n",
       "3  1977105301  \n",
       "4  1996104409  "
      ]
     },
     "execution_count": 29,
     "metadata": {},
     "output_type": "execute_result"
    }
   ],
   "source": [
    "horse_data.head()"
   ]
  },
  {
   "cell_type": "code",
   "execution_count": 64,
   "metadata": {},
   "outputs": [
    {
     "data": {
      "text/plain": [
       "['horse_url',\n",
       " 'horse_name',\n",
       " 'birthday',\n",
       " 'trainer_name',\n",
       " 'owner_name',\n",
       " 'producer',\n",
       " 'origin_place',\n",
       " 'mother',\n",
       " 'father',\n",
       " 'mother_of_father',\n",
       " 'father_of_father',\n",
       " 'mother_of_mother',\n",
       " 'father_of_mother',\n",
       " 'horse_id']"
      ]
     },
     "execution_count": 64,
     "metadata": {},
     "output_type": "execute_result"
    }
   ],
   "source": [
    "list(horse_data.columns)"
   ]
  },
  {
   "cell_type": "code",
   "execution_count": 61,
   "metadata": {},
   "outputs": [
    {
     "data": {
      "text/plain": [
       "Index(['arrival_orders', 'box_numbers', 'horse_numbers', 'horse_names',\n",
       "       'horse_ids', 'horse_sexes', 'horse_ages', 'jockey_weights',\n",
       "       'jockey_names', 'goal_times', 'goal_margins', 'order_transitions',\n",
       "       'half_times', 'odds', 'popularities', 'horse_weights',\n",
       "       'horse_weight_diffs', 'trainer_names', 'horse_owners', 'earn_prizes',\n",
       "       'race_url', 'name', 'race_number', 'course_type', 'course_direction',\n",
       "       'course_length', 'weather', 'course_condition', 'race_start_time',\n",
       "       'held_date', 'held_place', 'held_number', 'held_date_number',\n",
       "       'explanation', 'race_id'],\n",
       "      dtype='object')"
      ]
     },
     "execution_count": 61,
     "metadata": {},
     "output_type": "execute_result"
    }
   ],
   "source": [
    "race_data.columns"
   ]
  },
  {
   "cell_type": "code",
   "execution_count": null,
   "metadata": {},
   "outputs": [],
   "source": []
  }
 ],
 "metadata": {
  "kernelspec": {
   "display_name": "Python 3",
   "language": "python",
   "name": "python3"
  },
  "language_info": {
   "codemirror_mode": {
    "name": "ipython",
    "version": 3
   },
   "file_extension": ".py",
   "mimetype": "text/x-python",
   "name": "python",
   "nbconvert_exporter": "python",
   "pygments_lexer": "ipython3",
   "version": "3.8.1"
  }
 },
 "nbformat": 4,
 "nbformat_minor": 4
}
