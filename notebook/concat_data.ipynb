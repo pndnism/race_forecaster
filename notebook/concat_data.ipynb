{
 "cells": [
  {
   "cell_type": "code",
   "execution_count": 28,
   "metadata": {},
   "outputs": [],
   "source": [
    "import pandas as pd\n",
    "import glob\n",
    "import re\n",
    "\n",
    "pd.options.display.max_columns=None\n",
    "pd.options.display.max_rows=None"
   ]
  },
  {
   "cell_type": "code",
   "execution_count": 15,
   "metadata": {},
   "outputs": [],
   "source": [
    "horse_csvs_path = \"/Users/daikimiyazaki/workspace/pndnism/horse_race_prediction/horse_info_crawler/horse_info_crawler/pedigree/data/horse_info/**/*.csv\"\n",
    "race_csvs_path = \"/Users/daikimiyazaki/workspace/pndnism/horse_race_prediction/horse_info_crawler/horse_info_crawler/race/data/race_histories/**/*.csv\""
   ]
  },
  {
   "cell_type": "code",
   "execution_count": 16,
   "metadata": {},
   "outputs": [],
   "source": [
    "horse_csvs = glob.glob(horse_csvs_path,recursive=True)\n",
    "race_csvs = glob.glob(rase_csvs_path,recursive=True)"
   ]
  },
  {
   "cell_type": "code",
   "execution_count": 21,
   "metadata": {},
   "outputs": [],
   "source": [
    "concat_list = []\n",
    "for horse_csv in horse_csvs:\n",
    "    concat_list.append(pd.read_csv(horse_csv, dtype=\"object\"))\n",
    "horse_data = pd.concat(concat_list)\n",
    "horse_data.drop_duplicates(inplace=True)"
   ]
  },
  {
   "cell_type": "code",
   "execution_count": 22,
   "metadata": {},
   "outputs": [],
   "source": [
    "concat_list = []\n",
    "for race_csv in race_csvs:\n",
    "    concat_list.append(pd.read_csv(race_csv, dtype=\"object\"))\n",
    "race_data = pd.concat(concat_list)\n",
    "race_data.drop_duplicates(inplace=True)"
   ]
  },
  {
   "cell_type": "code",
   "execution_count": 49,
   "metadata": {},
   "outputs": [
    {
     "data": {
      "text/plain": [
       "['202004040406']"
      ]
     },
     "execution_count": 49,
     "metadata": {},
     "output_type": "execute_result"
    }
   ],
   "source": [
    "test = \"https://db.netkeiba.com/race/202004040406/\"\n",
    "re.findall('/(\\w+)/$',test)"
   ]
  },
  {
   "cell_type": "code",
   "execution_count": 50,
   "metadata": {},
   "outputs": [],
   "source": [
    "def extract_id_number(x):\n",
    "    return re.findall(\"/(\\w+)/$\", x)[0]"
   ]
  },
  {
   "cell_type": "code",
   "execution_count": 55,
   "metadata": {},
   "outputs": [],
   "source": [
    "race_data[\"race_id\"] = race_data[\"race_url\"].apply(extract_id_number)\n",
    "horse_data[\"horse_id\"] = horse_data[\"horse_url\"].apply(extract_id_number)"
   ]
  },
  {
   "cell_type": "code",
   "execution_count": 58,
   "metadata": {},
   "outputs": [],
   "source": [
    "race_data.to_csv(\"../data/race_stacking_data.csv\", index=False)\n",
    "horse_data.to_csv(\"../data/horse_stacking_data.csv\", index=False)"
   ]
  },
  {
   "cell_type": "code",
   "execution_count": 65,
   "metadata": {},
   "outputs": [
    {
     "data": {
      "text/html": [
       "<div>\n",
       "<style scoped>\n",
       "    .dataframe tbody tr th:only-of-type {\n",
       "        vertical-align: middle;\n",
       "    }\n",
       "\n",
       "    .dataframe tbody tr th {\n",
       "        vertical-align: top;\n",
       "    }\n",
       "\n",
       "    .dataframe thead th {\n",
       "        text-align: right;\n",
       "    }\n",
       "</style>\n",
       "<table border=\"1\" class=\"dataframe\">\n",
       "  <thead>\n",
       "    <tr style=\"text-align: right;\">\n",
       "      <th></th>\n",
       "      <th>horse_url</th>\n",
       "      <th>horse_name</th>\n",
       "      <th>birthday</th>\n",
       "      <th>trainer_name</th>\n",
       "      <th>owner_name</th>\n",
       "      <th>producer</th>\n",
       "      <th>origin_place</th>\n",
       "      <th>mother</th>\n",
       "      <th>father</th>\n",
       "      <th>mother_of_father</th>\n",
       "      <th>father_of_father</th>\n",
       "      <th>mother_of_mother</th>\n",
       "      <th>father_of_mother</th>\n",
       "      <th>horse_id</th>\n",
       "    </tr>\n",
       "  </thead>\n",
       "  <tbody>\n",
       "    <tr>\n",
       "      <th>0</th>\n",
       "      <td>https://db.netkeiba.com/horse/2000101561/</td>\n",
       "      <td>リンカーン</td>\n",
       "      <td>2000年3月18日</td>\n",
       "      <td>音無秀孝 (栗東)</td>\n",
       "      <td>近藤英子</td>\n",
       "      <td>ノーザンファーム</td>\n",
       "      <td>早来町</td>\n",
       "      <td>グレースアドマイヤ</td>\n",
       "      <td>サンデーサイレンス</td>\n",
       "      <td>Wishing Well</td>\n",
       "      <td>Halo</td>\n",
       "      <td>バレークイーン</td>\n",
       "      <td>トニービン</td>\n",
       "      <td>2000101561</td>\n",
       "    </tr>\n",
       "    <tr>\n",
       "      <th>1</th>\n",
       "      <td>https://db.netkeiba.com/horse/2001104554/</td>\n",
       "      <td>□地アジュディミツオー</td>\n",
       "      <td>2001年6月2日</td>\n",
       "      <td>川島正行 (地方)</td>\n",
       "      <td>織戸眞男</td>\n",
       "      <td>藤川ファーム</td>\n",
       "      <td>静内</td>\n",
       "      <td>オリミツキネン</td>\n",
       "      <td>アジュディケーティング</td>\n",
       "      <td>Resolver</td>\n",
       "      <td>Danzig</td>\n",
       "      <td>ウサロマン</td>\n",
       "      <td>ジャッジアンジェルーチ</td>\n",
       "      <td>2001104554</td>\n",
       "    </tr>\n",
       "    <tr>\n",
       "      <th>2</th>\n",
       "      <td>https://db.netkeiba.com/horse/2010103783/</td>\n",
       "      <td>ロゴタイプ</td>\n",
       "      <td>2010年3月10日</td>\n",
       "      <td>田中剛 (美浦)</td>\n",
       "      <td>吉田照哉</td>\n",
       "      <td>社台ファーム</td>\n",
       "      <td>千歳市</td>\n",
       "      <td>ステレオタイプ</td>\n",
       "      <td>ローエングリン</td>\n",
       "      <td>カーリング</td>\n",
       "      <td>シングスピール</td>\n",
       "      <td>スターバレリーナ</td>\n",
       "      <td>サンデーサイレンス</td>\n",
       "      <td>2010103783</td>\n",
       "    </tr>\n",
       "    <tr>\n",
       "      <th>3</th>\n",
       "      <td>https://db.netkeiba.com/horse/1998106357/</td>\n",
       "      <td>○父ツルマルボーイ</td>\n",
       "      <td>1998年3月5日</td>\n",
       "      <td>橋口弘次 (栗東)</td>\n",
       "      <td>鶴田任男</td>\n",
       "      <td>浜本牧場</td>\n",
       "      <td>門別町</td>\n",
       "      <td>ツルマルガール</td>\n",
       "      <td>ダンスインザダーク</td>\n",
       "      <td>ダンシングキイ</td>\n",
       "      <td>サンデーサイレンス</td>\n",
       "      <td>エプソムガール</td>\n",
       "      <td>サッカーボーイ</td>\n",
       "      <td>1998106357</td>\n",
       "    </tr>\n",
       "    <tr>\n",
       "      <th>4</th>\n",
       "      <td>https://db.netkeiba.com/horse/2005105410/</td>\n",
       "      <td>アーネストリー</td>\n",
       "      <td>2005年5月17日</td>\n",
       "      <td>佐々木晶 (栗東)</td>\n",
       "      <td>前田幸治</td>\n",
       "      <td>ノースヒルズマネジメント</td>\n",
       "      <td>新冠町</td>\n",
       "      <td>レットルダムール</td>\n",
       "      <td>グラスワンダー</td>\n",
       "      <td>Ameriflora</td>\n",
       "      <td>Silver Hawk</td>\n",
       "      <td>ダイナチャイナ</td>\n",
       "      <td>トニービン</td>\n",
       "      <td>2005105410</td>\n",
       "    </tr>\n",
       "  </tbody>\n",
       "</table>\n",
       "</div>"
      ],
      "text/plain": [
       "                                   horse_url   horse_name    birthday  \\\n",
       "0  https://db.netkeiba.com/horse/2000101561/        リンカーン  2000年3月18日   \n",
       "1  https://db.netkeiba.com/horse/2001104554/  □地アジュディミツオー   2001年6月2日   \n",
       "2  https://db.netkeiba.com/horse/2010103783/        ロゴタイプ  2010年3月10日   \n",
       "3  https://db.netkeiba.com/horse/1998106357/    ○父ツルマルボーイ   1998年3月5日   \n",
       "4  https://db.netkeiba.com/horse/2005105410/      アーネストリー  2005年5月17日   \n",
       "\n",
       "  trainer_name owner_name      producer origin_place     mother       father  \\\n",
       "0    音無秀孝 (栗東)       近藤英子      ノーザンファーム          早来町  グレースアドマイヤ    サンデーサイレンス   \n",
       "1    川島正行 (地方)       織戸眞男        藤川ファーム           静内    オリミツキネン  アジュディケーティング   \n",
       "2     田中剛 (美浦)       吉田照哉        社台ファーム          千歳市    ステレオタイプ      ローエングリン   \n",
       "3    橋口弘次 (栗東)       鶴田任男          浜本牧場          門別町    ツルマルガール    ダンスインザダーク   \n",
       "4    佐々木晶 (栗東)       前田幸治  ノースヒルズマネジメント          新冠町   レットルダムール      グラスワンダー   \n",
       "\n",
       "  mother_of_father father_of_father mother_of_mother father_of_mother  \\\n",
       "0     Wishing Well             Halo          バレークイーン            トニービン   \n",
       "1         Resolver           Danzig            ウサロマン      ジャッジアンジェルーチ   \n",
       "2            カーリング          シングスピール         スターバレリーナ        サンデーサイレンス   \n",
       "3          ダンシングキイ        サンデーサイレンス          エプソムガール          サッカーボーイ   \n",
       "4       Ameriflora      Silver Hawk          ダイナチャイナ            トニービン   \n",
       "\n",
       "     horse_id  \n",
       "0  2000101561  \n",
       "1  2001104554  \n",
       "2  2010103783  \n",
       "3  1998106357  \n",
       "4  2005105410  "
      ]
     },
     "execution_count": 65,
     "metadata": {},
     "output_type": "execute_result"
    }
   ],
   "source": [
    "horse_data.head()"
   ]
  },
  {
   "cell_type": "code",
   "execution_count": 64,
   "metadata": {},
   "outputs": [
    {
     "data": {
      "text/plain": [
       "['horse_url',\n",
       " 'horse_name',\n",
       " 'birthday',\n",
       " 'trainer_name',\n",
       " 'owner_name',\n",
       " 'producer',\n",
       " 'origin_place',\n",
       " 'mother',\n",
       " 'father',\n",
       " 'mother_of_father',\n",
       " 'father_of_father',\n",
       " 'mother_of_mother',\n",
       " 'father_of_mother',\n",
       " 'horse_id']"
      ]
     },
     "execution_count": 64,
     "metadata": {},
     "output_type": "execute_result"
    }
   ],
   "source": [
    "list(horse_data.columns)"
   ]
  },
  {
   "cell_type": "code",
   "execution_count": 61,
   "metadata": {},
   "outputs": [
    {
     "data": {
      "text/plain": [
       "Index(['arrival_orders', 'box_numbers', 'horse_numbers', 'horse_names',\n",
       "       'horse_ids', 'horse_sexes', 'horse_ages', 'jockey_weights',\n",
       "       'jockey_names', 'goal_times', 'goal_margins', 'order_transitions',\n",
       "       'half_times', 'odds', 'popularities', 'horse_weights',\n",
       "       'horse_weight_diffs', 'trainer_names', 'horse_owners', 'earn_prizes',\n",
       "       'race_url', 'name', 'race_number', 'course_type', 'course_direction',\n",
       "       'course_length', 'weather', 'course_condition', 'race_start_time',\n",
       "       'held_date', 'held_place', 'held_number', 'held_date_number',\n",
       "       'explanation', 'race_id'],\n",
       "      dtype='object')"
      ]
     },
     "execution_count": 61,
     "metadata": {},
     "output_type": "execute_result"
    }
   ],
   "source": [
    "race_data.columns"
   ]
  },
  {
   "cell_type": "code",
   "execution_count": null,
   "metadata": {},
   "outputs": [],
   "source": []
  }
 ],
 "metadata": {
  "kernelspec": {
   "display_name": "Python 3",
   "language": "python",
   "name": "python3"
  },
  "language_info": {
   "codemirror_mode": {
    "name": "ipython",
    "version": 3
   },
   "file_extension": ".py",
   "mimetype": "text/x-python",
   "name": "python",
   "nbconvert_exporter": "python",
   "pygments_lexer": "ipython3",
   "version": "3.8.1"
  }
 },
 "nbformat": 4,
 "nbformat_minor": 4
}
